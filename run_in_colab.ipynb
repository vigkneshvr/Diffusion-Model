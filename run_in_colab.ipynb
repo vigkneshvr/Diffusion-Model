{
 "cells": [
  {
   "cell_type": "code",
   "execution_count": null,
   "metadata": {},
   "outputs": [],
   "source": [
    "from google.colab import drive\n",
    "drive.mount('/content/drive')\n",
    "%cd path_to_your_project\n",
    "!pwd"
   ]
  },
  {
   "cell_type": "code",
   "execution_count": null,
   "metadata": {},
   "outputs": [],
   "source": [
    "# Download the dataset afhq_v2.zip (6.48G)\n",
    "!mkdir -p ./data\n",
    "!wget -N https://www.dropbox.com/s/vkzjokiwof5h8w6/afhq_v2.zip?dl=0 -O ./data/afhq_v2.zip\n",
    "!unzip -q ./data/afhq_v2.zip -d ./data"
   ]
  },
  {
   "cell_type": "code",
   "execution_count": null,
   "metadata": {},
   "outputs": [],
   "source": [
    "# Set up the environment\n",
    "!pip install -r requirements.txt"
   ]
  },
  {
   "cell_type": "code",
   "execution_count": null,
   "metadata": {},
   "outputs": [],
   "source": [
    "# Train the model: If you use colab to train the model, the training process will probably take 2 hours.\n",
    "!python main.py \\\n",
    "    --data_path ./data/train \\\n",
    "    --save_folder path_to_save_folder \\\n",
    "    --time_steps 50 \\\n",
    "    --train_steps 10000 \\\n",
    "    --image_size 32 \\\n",
    "    --batch_size 32 \\\n",
    "    --learning_rate 1e-3 \\\n",
    "    --unet_dim 16"
   ]
  },
  {
   "cell_type": "code",
   "execution_count": null,
   "metadata": {},
   "outputs": [],
   "source": [
    "# Visualize the forward and backward process\n",
    "!python main.py \\\n",
    "    --data_path ./data/train/ \\\n",
    "    --load_path path_to_saved_model \\\n",
    "    --save_folder path_to_save_folder \\\n",
    "    --time_steps 50 \\\n",
    "    --train_steps 10000 \\\n",
    "    --image_size 32 \\\n",
    "    --batch_size 32 \\\n",
    "    --learning_rate 1e-3 \\\n",
    "    --unet_dim 16 \\\n",
    "    --visualize"
   ]
  }
 ],
 "metadata": {
  "language_info": {
   "name": "python"
  }
 },
 "nbformat": 4,
 "nbformat_minor": 2
}
